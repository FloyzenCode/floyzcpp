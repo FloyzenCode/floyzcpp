{
 "cells": [
  {
   "attachments": {},
   "cell_type": "markdown",
   "metadata": {},
   "source": [
    "# <strong>Documentation for this Command Line Interface</strong>\n",
    "---"
   ]
  },
  {
   "attachments": {},
   "cell_type": "markdown",
   "metadata": {},
   "source": [
    "## Overview\n",
    "\n",
    "- FloyzCpp is a command-line interface (CLI) tool designed to generate C++ projects. It provides a convenient way to create new projects with customizable configurations. This documentation will guide you through the installation process and explain how to use the CLI to generate projects.\n",
    "\n",
    "# Installation\n",
    "To install FloyzCpp CLI, follow these steps:\n",
    "---\n",
    "```\n",
    "git clone https://github.com/FloyzenCode/floyzcpp\n",
    "cd floyzcpp\n",
    "```\n",
    "## Run Shell script platform:\n",
    "- Windows\n",
    "```shell\n",
    "bash install_windows.sh\n",
    "```\n",
    "---\n",
    "- macOS\n",
    "```shell\n",
    "bash install_macos.sh\n",
    "```\n",
    "---\n",
    "- Linux\n",
    "```shell\n",
    "bash install_linux.sh\n",
    "```\n",
    "---\n",
    "**CMake:**\n",
    "```shell\n",
    "bash cmake.sh\n",
    "```\n",
    "- Happy coding!"
   ]
  }
 ],
 "metadata": {
  "language_info": {
   "name": "python"
  },
  "orig_nbformat": 4
 },
 "nbformat": 4,
 "nbformat_minor": 2
}
